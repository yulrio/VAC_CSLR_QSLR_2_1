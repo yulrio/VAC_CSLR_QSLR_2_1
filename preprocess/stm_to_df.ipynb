{
 "cells": [
  {
   "cell_type": "code",
   "execution_count": 1,
   "id": "f8755eb5-2870-494a-94ca-d0a4890b0d9f",
   "metadata": {},
   "outputs": [],
   "source": [
    "import numpy as np"
   ]
  },
  {
   "cell_type": "code",
   "execution_count": 2,
   "id": "9c25612e-88e7-4950-a909-a4bbfeeff9e9",
   "metadata": {},
   "outputs": [],
   "source": [
    "# Ganti path sesuai lokasi file .npy Anda\n",
    "npy_path = \"QSLR2024/dev_info.npy\""
   ]
  },
  {
   "cell_type": "code",
   "execution_count": 6,
   "id": "d6b56691-28af-498b-b5d7-1292698bd688",
   "metadata": {},
   "outputs": [
    {
     "name": "stdout",
     "output_type": "stream",
     "text": [
      "prefix: ../dataset/QSLR2024/features/fullFrame-480x480px\n",
      "0: {'fileid': '112_alikhlas_1_2_3', 'folder': 'dev/112_alikhlas_1_2_3/*.jpg', 'signer': 'signer-1', 'label': 'a llā hu ṣṣa ma d', 'num_frames': 155, 'original_info': '112_alikhlas_1_2_3|112_alikhlas_1_2_3/*.jpg|signer-1|a llā hu ṣṣa ma d'}\n",
      "1: {'fileid': '112_alikhlas_1_2_6', 'folder': 'dev/112_alikhlas_1_2_6/*.jpg', 'signer': 'signer-1', 'label': 'a llā hu ṣṣa ma d', 'num_frames': 161, 'original_info': '112_alikhlas_1_2_6|112_alikhlas_1_2_6/*.jpg|signer-1|a llā hu ṣṣa ma d'}\n",
      "2: {'fileid': '112_alikhlas_1_2_8', 'folder': 'dev/112_alikhlas_1_2_8/*.jpg', 'signer': 'signer-1', 'label': 'a llā hu ṣṣa ma d', 'num_frames': 149, 'original_info': '112_alikhlas_1_2_8|112_alikhlas_1_2_8/*.jpg|signer-1|a llā hu ṣṣa ma d'}\n",
      "3: {'fileid': '112_alikhlas_1_3_1', 'folder': 'dev/112_alikhlas_1_3_1/*.jpg', 'signer': 'signer-1', 'label': 'la m ya li d wa la m yū la d', 'num_frames': 259, 'original_info': '112_alikhlas_1_3_1|112_alikhlas_1_3_1/*.jpg|signer-1|la m ya li d wa la m yū la d'}\n",
      "4: {'fileid': '112_alikhlas_1_3_10', 'folder': 'dev/112_alikhlas_1_3_10/*.jpg', 'signer': 'signer-1', 'label': 'la m ya li d wa la m yū la d', 'num_frames': 232, 'original_info': '112_alikhlas_1_3_10|112_alikhlas_1_3_10/*.jpg|signer-1|la m ya li d wa la m yū la d'}\n",
      "5: {'fileid': '112_alikhlas_1_4_3', 'folder': 'dev/112_alikhlas_1_4_3/*.jpg', 'signer': 'signer-1', 'label': 'wa la m ya ku l la hū ku fu wa n a ḥa d', 'num_frames': 354, 'original_info': '112_alikhlas_1_4_3|112_alikhlas_1_4_3/*.jpg|signer-1|wa la m ya ku l la hū ku fu wa n a ḥa d'}\n",
      "6: {'fileid': '112_alikhlas_1_4_5', 'folder': 'dev/112_alikhlas_1_4_5/*.jpg', 'signer': 'signer-1', 'label': 'wa la m ya ku l la hū ku fu wa n a ḥa d', 'num_frames': 328, 'original_info': '112_alikhlas_1_4_5|112_alikhlas_1_4_5/*.jpg|signer-1|wa la m ya ku l la hū ku fu wa n a ḥa d'}\n",
      "7: {'fileid': '112_alikhlas_3_1_3', 'folder': 'dev/112_alikhlas_3_1_3/*.jpg', 'signer': 'signer-3', 'label': 'qu l hu wa allā hu a ḥa d', 'num_frames': 177, 'original_info': '112_alikhlas_3_1_3|112_alikhlas_3_1_3/*.jpg|signer-3|qu l hu wa allā hu a ḥa d'}\n",
      "8: {'fileid': '112_alikhlas_3_1_4', 'folder': 'dev/112_alikhlas_3_1_4/*.jpg', 'signer': 'signer-3', 'label': 'qu l hu wa allā hu a ḥa d', 'num_frames': 215, 'original_info': '112_alikhlas_3_1_4|112_alikhlas_3_1_4/*.jpg|signer-3|qu l hu wa allā hu a ḥa d'}\n",
      "9: {'fileid': '112_alikhlas_3_1_6', 'folder': 'dev/112_alikhlas_3_1_6/*.jpg', 'signer': 'signer-3', 'label': 'qu l hu wa allā hu a ḥa d', 'num_frames': 198, 'original_info': '112_alikhlas_3_1_6|112_alikhlas_3_1_6/*.jpg|signer-3|qu l hu wa allā hu a ḥa d'}\n",
      "10: {'fileid': '112_alikhlas_3_2_3', 'folder': 'dev/112_alikhlas_3_2_3/*.jpg', 'signer': 'signer-3', 'label': 'a llā hu ṣṣa ma d', 'num_frames': 152, 'original_info': '112_alikhlas_3_2_3|112_alikhlas_3_2_3/*.jpg|signer-3|a llā hu ṣṣa ma d'}\n",
      "11: {'fileid': '112_alikhlas_3_2_8', 'folder': 'dev/112_alikhlas_3_2_8/*.jpg', 'signer': 'signer-3', 'label': 'a llā hu ṣṣa ma d', 'num_frames': 143, 'original_info': '112_alikhlas_3_2_8|112_alikhlas_3_2_8/*.jpg|signer-3|a llā hu ṣṣa ma d'}\n",
      "12: {'fileid': '112_alikhlas_3_3_7', 'folder': 'dev/112_alikhlas_3_3_7/*.jpg', 'signer': 'signer-3', 'label': 'la m ya li d wa la m yū la d', 'num_frames': 209, 'original_info': '112_alikhlas_3_3_7|112_alikhlas_3_3_7/*.jpg|signer-3|la m ya li d wa la m yū la d'}\n",
      "13: {'fileid': '112_alikhlas_3_3_8', 'folder': 'dev/112_alikhlas_3_3_8/*.jpg', 'signer': 'signer-3', 'label': 'la m ya li d wa la m yū la d', 'num_frames': 214, 'original_info': '112_alikhlas_3_3_8|112_alikhlas_3_3_8/*.jpg|signer-3|la m ya li d wa la m yū la d'}\n",
      "14: {'fileid': '112_alikhlas_3_3_9', 'folder': 'dev/112_alikhlas_3_3_9/*.jpg', 'signer': 'signer-3', 'label': 'la m ya li d wa la m yū la d', 'num_frames': 212, 'original_info': '112_alikhlas_3_3_9|112_alikhlas_3_3_9/*.jpg|signer-3|la m ya li d wa la m yū la d'}\n",
      "15: {'fileid': '112_alikhlas_3_4_4', 'folder': 'dev/112_alikhlas_3_4_4/*.jpg', 'signer': 'signer-3', 'label': 'wa la m ya ku l la hū ku fu wa n a ḥa d', 'num_frames': 271, 'original_info': '112_alikhlas_3_4_4|112_alikhlas_3_4_4/*.jpg|signer-3|wa la m ya ku l la hū ku fu wa n a ḥa d'}\n",
      "16: {'fileid': '112_alikhlas_3_4_5', 'folder': 'dev/112_alikhlas_3_4_5/*.jpg', 'signer': 'signer-3', 'label': 'wa la m ya ku l la hū ku fu wa n a ḥa d', 'num_frames': 275, 'original_info': '112_alikhlas_3_4_5|112_alikhlas_3_4_5/*.jpg|signer-3|wa la m ya ku l la hū ku fu wa n a ḥa d'}\n",
      "17: {'fileid': '112_alikhlas_3_4_6', 'folder': 'dev/112_alikhlas_3_4_6/*.jpg', 'signer': 'signer-3', 'label': 'wa la m ya ku l la hū ku fu wa n a ḥa d', 'num_frames': 266, 'original_info': '112_alikhlas_3_4_6|112_alikhlas_3_4_6/*.jpg|signer-3|wa la m ya ku l la hū ku fu wa n a ḥa d'}\n",
      "18: {'fileid': '112_alikhlas_3_4_8', 'folder': 'dev/112_alikhlas_3_4_8/*.jpg', 'signer': 'signer-3', 'label': 'wa la m ya ku l la hū ku fu wa n a ḥa d', 'num_frames': 271, 'original_info': '112_alikhlas_3_4_8|112_alikhlas_3_4_8/*.jpg|signer-3|wa la m ya ku l la hū ku fu wa n a ḥa d'}\n",
      "19: {'fileid': '1_alfatihah_1_2_6', 'folder': 'dev/1_alfatihah_1_2_6/*.jpg', 'signer': 'signer-1', 'label': \"al ḥa m du li llā hi ra bbi l 'ā la mī n\", 'num_frames': 426, 'original_info': \"1_alfatihah_1_2_6|1_alfatihah_1_2_6/*.jpg|signer-1|al ḥa m du li llā hi ra bbi l 'ā la mī n\"}\n",
      "20: {'fileid': '1_alfatihah_1_3_4', 'folder': 'dev/1_alfatihah_1_3_4/*.jpg', 'signer': 'signer-1', 'label': 'a rra ḥ mā ni rra ḥī m', 'num_frames': 213, 'original_info': '1_alfatihah_1_3_4|1_alfatihah_1_3_4/*.jpg|signer-1|a rra ḥ mā ni rra ḥī m'}\n",
      "21: {'fileid': '1_alfatihah_1_3_5', 'folder': 'dev/1_alfatihah_1_3_5/*.jpg', 'signer': 'signer-1', 'label': 'a rra ḥ mā ni rra ḥī m', 'num_frames': 194, 'original_info': '1_alfatihah_1_3_5|1_alfatihah_1_3_5/*.jpg|signer-1|a rra ḥ mā ni rra ḥī m'}\n",
      "22: {'fileid': '1_alfatihah_1_4_2', 'folder': 'dev/1_alfatihah_1_4_2/*.jpg', 'signer': 'signer-1', 'label': 'mā li ki ya u mi ddī n ', 'num_frames': 204, 'original_info': '1_alfatihah_1_4_2|1_alfatihah_1_4_2/*.jpg|signer-1|mā li ki ya u mi ddī n '}\n",
      "23: {'fileid': '1_alfatihah_1_4_4', 'folder': 'dev/1_alfatihah_1_4_4/*.jpg', 'signer': 'signer-1', 'label': 'mā li ki ya u mi ddī n ', 'num_frames': 214, 'original_info': '1_alfatihah_1_4_4|1_alfatihah_1_4_4/*.jpg|signer-1|mā li ki ya u mi ddī n '}\n",
      "24: {'fileid': '1_alfatihah_1_4_5', 'folder': 'dev/1_alfatihah_1_4_5/*.jpg', 'signer': 'signer-1', 'label': 'mā li ki ya u mi ddī n ', 'num_frames': 207, 'original_info': '1_alfatihah_1_4_5|1_alfatihah_1_4_5/*.jpg|signer-1|mā li ki ya u mi ddī n '}\n",
      "25: {'fileid': '1_alfatihah_1_4_7', 'folder': 'dev/1_alfatihah_1_4_7/*.jpg', 'signer': 'signer-1', 'label': 'mā li ki ya u mi ddī n ', 'num_frames': 200, 'original_info': '1_alfatihah_1_4_7|1_alfatihah_1_4_7/*.jpg|signer-1|mā li ki ya u mi ddī n '}\n",
      "26: {'fileid': '1_alfatihah_1_5_2', 'folder': 'dev/1_alfatihah_1_5_2/*.jpg', 'signer': 'signer-1', 'label': \"i yyā ka na ' bu du wa i yyā ka na s ta 'ī n\", 'num_frames': 448, 'original_info': \"1_alfatihah_1_5_2|1_alfatihah_1_5_2/*.jpg|signer-1|i yyā ka na ' bu du wa i yyā ka na s ta 'ī n\"}\n",
      "27: {'fileid': '1_alfatihah_1_5_5', 'folder': 'dev/1_alfatihah_1_5_5/*.jpg', 'signer': 'signer-1', 'label': \"i yyā ka na ' bu du wa i yyā ka na s ta 'ī n\", 'num_frames': 499, 'original_info': \"1_alfatihah_1_5_5|1_alfatihah_1_5_5/*.jpg|signer-1|i yyā ka na ' bu du wa i yyā ka na s ta 'ī n\"}\n",
      "28: {'fileid': '1_alfatihah_1_5_8', 'folder': 'dev/1_alfatihah_1_5_8/*.jpg', 'signer': 'signer-1', 'label': \"i yyā ka na ' bu du wa i yyā ka na s ta 'ī n\", 'num_frames': 523, 'original_info': \"1_alfatihah_1_5_8|1_alfatihah_1_5_8/*.jpg|signer-1|i yyā ka na ' bu du wa i yyā ka na s ta 'ī n\"}\n",
      "29: {'fileid': '1_alfatihah_1_6_10', 'folder': 'dev/1_alfatihah_1_6_10/*.jpg', 'signer': 'signer-1', 'label': 'i h di na ṣṣi rā ṭa l mu s ta qī m', 'num_frames': 322, 'original_info': '1_alfatihah_1_6_10|1_alfatihah_1_6_10/*.jpg|signer-1|i h di na ṣṣi rā ṭa l mu s ta qī m'}\n",
      "30: {'fileid': '1_alfatihah_1_6_2', 'folder': 'dev/1_alfatihah_1_6_2/*.jpg', 'signer': 'signer-1', 'label': 'i h di na ṣṣi rā ṭa l mu s ta qī m', 'num_frames': 364, 'original_info': '1_alfatihah_1_6_2|1_alfatihah_1_6_2/*.jpg|signer-1|i h di na ṣṣi rā ṭa l mu s ta qī m'}\n",
      "31: {'fileid': '1_alfatihah_1_7a_5', 'folder': 'dev/1_alfatihah_1_7a_5/*.jpg', 'signer': 'signer-1', 'label': 'ṣi rā ṭa lla żī na a n ‘a m ta ‘a la i hi m', 'num_frames': 409, 'original_info': '1_alfatihah_1_7a_5|1_alfatihah_1_7a_5/*.jpg|signer-1|ṣi rā ṭa lla żī na a n ‘a m ta ‘a la i hi m'}\n",
      "32: {'fileid': '1_alfatihah_1_7a_9', 'folder': 'dev/1_alfatihah_1_7a_9/*.jpg', 'signer': 'signer-1', 'label': 'ṣi rā ṭa lla żī na a n ‘a m ta ‘a la i hi m', 'num_frames': 380, 'original_info': '1_alfatihah_1_7a_9|1_alfatihah_1_7a_9/*.jpg|signer-1|ṣi rā ṭa lla żī na a n ‘a m ta ‘a la i hi m'}\n",
      "33: {'fileid': '1_alfatihah_3_1_2', 'folder': 'dev/1_alfatihah_3_1_2/*.jpg', 'signer': 'signer-3', 'label': 'bi s mi allā hi rra ḥ mā ni rra ḥī m', 'num_frames': 305, 'original_info': '1_alfatihah_3_1_2|1_alfatihah_3_1_2/*.jpg|signer-3|bi s mi allā hi rra ḥ mā ni rra ḥī m'}\n",
      "34: {'fileid': '1_alfatihah_3_1_7', 'folder': 'dev/1_alfatihah_3_1_7/*.jpg', 'signer': 'signer-3', 'label': 'bi s mi allā hi rra ḥ mā ni rra ḥī m', 'num_frames': 295, 'original_info': '1_alfatihah_3_1_7|1_alfatihah_3_1_7/*.jpg|signer-3|bi s mi allā hi rra ḥ mā ni rra ḥī m'}\n",
      "35: {'fileid': '1_alfatihah_3_2_9', 'folder': 'dev/1_alfatihah_3_2_9/*.jpg', 'signer': 'signer-3', 'label': \"al ḥa m du li llā hi ra bbi l 'ā la mī n\", 'num_frames': 330, 'original_info': \"1_alfatihah_3_2_9|1_alfatihah_3_2_9/*.jpg|signer-3|al ḥa m du li llā hi ra bbi l 'ā la mī n\"}\n",
      "36: {'fileid': '1_alfatihah_3_3_1', 'folder': 'dev/1_alfatihah_3_3_1/*.jpg', 'signer': 'signer-3', 'label': 'a rra ḥ mā ni rra ḥī m', 'num_frames': 190, 'original_info': '1_alfatihah_3_3_1|1_alfatihah_3_3_1/*.jpg|signer-3|a rra ḥ mā ni rra ḥī m'}\n",
      "37: {'fileid': '1_alfatihah_3_3_3', 'folder': 'dev/1_alfatihah_3_3_3/*.jpg', 'signer': 'signer-3', 'label': 'a rra ḥ mā ni rra ḥī m', 'num_frames': 200, 'original_info': '1_alfatihah_3_3_3|1_alfatihah_3_3_3/*.jpg|signer-3|a rra ḥ mā ni rra ḥī m'}\n",
      "38: {'fileid': '1_alfatihah_3_3_8', 'folder': 'dev/1_alfatihah_3_3_8/*.jpg', 'signer': 'signer-3', 'label': 'a rra ḥ mā ni rra ḥī m', 'num_frames': 214, 'original_info': '1_alfatihah_3_3_8|1_alfatihah_3_3_8/*.jpg|signer-3|a rra ḥ mā ni rra ḥī m'}\n",
      "39: {'fileid': '1_alfatihah_3_4_2', 'folder': 'dev/1_alfatihah_3_4_2/*.jpg', 'signer': 'signer-3', 'label': 'mā li ki ya u mi ddī n ', 'num_frames': 191, 'original_info': '1_alfatihah_3_4_2|1_alfatihah_3_4_2/*.jpg|signer-3|mā li ki ya u mi ddī n '}\n",
      "40: {'fileid': '1_alfatihah_3_5_2', 'folder': 'dev/1_alfatihah_3_5_2/*.jpg', 'signer': 'signer-3', 'label': \"i yyā ka na ' bu du wa i yyā ka na s ta 'ī n\", 'num_frames': 319, 'original_info': \"1_alfatihah_3_5_2|1_alfatihah_3_5_2/*.jpg|signer-3|i yyā ka na ' bu du wa i yyā ka na s ta 'ī n\"}\n",
      "41: {'fileid': '1_alfatihah_3_5_9', 'folder': 'dev/1_alfatihah_3_5_9/*.jpg', 'signer': 'signer-3', 'label': \"i yyā ka na ' bu du wa i yyā ka na s ta 'ī n\", 'num_frames': 329, 'original_info': \"1_alfatihah_3_5_9|1_alfatihah_3_5_9/*.jpg|signer-3|i yyā ka na ' bu du wa i yyā ka na s ta 'ī n\"}\n",
      "42: {'fileid': '1_alfatihah_3_6_3', 'folder': 'dev/1_alfatihah_3_6_3/*.jpg', 'signer': 'signer-3', 'label': 'i h di na ṣṣi rā ṭa l mu s ta qī m', 'num_frames': 265, 'original_info': '1_alfatihah_3_6_3|1_alfatihah_3_6_3/*.jpg|signer-3|i h di na ṣṣi rā ṭa l mu s ta qī m'}\n",
      "43: {'fileid': '1_alfatihah_3_6_6', 'folder': 'dev/1_alfatihah_3_6_6/*.jpg', 'signer': 'signer-3', 'label': 'i h di na ṣṣi rā ṭa l mu s ta qī m', 'num_frames': 262, 'original_info': '1_alfatihah_3_6_6|1_alfatihah_3_6_6/*.jpg|signer-3|i h di na ṣṣi rā ṭa l mu s ta qī m'}\n",
      "44: {'fileid': '1_alfatihah_3_6_9', 'folder': 'dev/1_alfatihah_3_6_9/*.jpg', 'signer': 'signer-3', 'label': 'i h di na ṣṣi rā ṭa l mu s ta qī m', 'num_frames': 264, 'original_info': '1_alfatihah_3_6_9|1_alfatihah_3_6_9/*.jpg|signer-3|i h di na ṣṣi rā ṭa l mu s ta qī m'}\n",
      "45: {'fileid': '1_alfatihah_3_7a_4', 'folder': 'dev/1_alfatihah_3_7a_4/*.jpg', 'signer': 'signer-3', 'label': 'ṣi rā ṭa lla żī na a n ‘a m ta ‘a la i hi m', 'num_frames': 276, 'original_info': '1_alfatihah_3_7a_4|1_alfatihah_3_7a_4/*.jpg|signer-3|ṣi rā ṭa lla żī na a n ‘a m ta ‘a la i hi m'}\n",
      "46: {'fileid': '1_alfatihah_3_7b_3', 'folder': 'dev/1_alfatihah_3_7b_3/*.jpg', 'signer': 'signer-3', 'label': 'ga i ri l ma g ḍū bi ‘a la i hi m wa la ḍḍā llī n', 'num_frames': 546, 'original_info': '1_alfatihah_3_7b_3|1_alfatihah_3_7b_3/*.jpg|signer-3|ga i ri l ma g ḍū bi ‘a la i hi m wa la ḍḍā llī n'}\n"
     ]
    }
   ],
   "source": [
    "# Membaca file .npy (dictionary)\n",
    "data = np.load(npy_path, allow_pickle=True).item()\n",
    "\n",
    "# Contoh: print semua key dan value\n",
    "for key, value in data.items():\n",
    "    print(f\"{key}: {value}\")"
   ]
  },
  {
   "cell_type": "code",
   "execution_count": 4,
   "id": "dde4abb9-f957-49b6-85ee-be4d319e575f",
   "metadata": {},
   "outputs": [
    {
     "name": "stdout",
     "output_type": "stream",
     "text": [
      "{'fileid': '112_alikhlas_1_2_3', 'folder': 'dev/112_alikhlas_1_2_3/*.jpg', 'signer': 'signer-1', 'label': 'a llā hu ṣṣa ma d', 'num_frames': 155, 'original_info': '112_alikhlas_1_2_3|112_alikhlas_1_2_3/*.jpg|signer-1|a llā hu ṣṣa ma d'}\n"
     ]
    }
   ],
   "source": []
  },
  {
   "cell_type": "code",
   "execution_count": null,
   "id": "62d934f1-fa19-416e-aecd-1260a0d727fd",
   "metadata": {},
   "outputs": [],
   "source": []
  }
 ],
 "metadata": {
  "kernelspec": {
   "display_name": "Python 3 (ipykernel)",
   "language": "python",
   "name": "python3"
  },
  "language_info": {
   "codemirror_mode": {
    "name": "ipython",
    "version": 3
   },
   "file_extension": ".py",
   "mimetype": "text/x-python",
   "name": "python",
   "nbconvert_exporter": "python",
   "pygments_lexer": "ipython3",
   "version": "3.11.13"
  }
 },
 "nbformat": 4,
 "nbformat_minor": 5
}
