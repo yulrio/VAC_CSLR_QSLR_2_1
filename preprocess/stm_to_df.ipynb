{
 "cells": [
  {
   "cell_type": "code",
   "execution_count": 1,
   "id": "f8755eb5-2870-494a-94ca-d0a4890b0d9f",
   "metadata": {},
   "outputs": [],
   "source": [
    "import numpy as np\n",
    "import pandas as pd"
   ]
  },
  {
   "cell_type": "code",
   "execution_count": 2,
   "id": "9c25612e-88e7-4950-a909-a4bbfeeff9e9",
   "metadata": {},
   "outputs": [],
   "source": [
    "# Daftar path file .npy\n",
    "npy_paths = [\"QSLR2024/dev_info.npy\", \"QSLR2024/test_info.npy\", \"QSLR2024/train_info.npy\"]\n",
    "\n",
    "# List untuk menyimpan DataFrame dari setiap file\n",
    "dfs = []"
   ]
  },
  {
   "cell_type": "code",
   "execution_count": 3,
   "id": "d6b56691-28af-498b-b5d7-1292698bd688",
   "metadata": {},
   "outputs": [],
   "source": [
    "# Memproses setiap file .npy\n",
    "for npy_path in npy_paths:\n",
    "    # Membaca file .npy (dictionary)\n",
    "    data = np.load(npy_path, allow_pickle=True).item()\n",
    "    # Mengubah data menjadi DataFrame, kecuali baris pertama (indeks 0)\n",
    "    df = pd.DataFrame([value for i, value in enumerate(data.values()) if i != 0])\n",
    "    # Menambahkan DataFrame ke list\n",
    "    dfs.append(df)"
   ]
  },
  {
   "cell_type": "code",
   "execution_count": 4,
   "id": "dde4abb9-f957-49b6-85ee-be4d319e575f",
   "metadata": {},
   "outputs": [
    {
     "data": {
      "text/html": [
       "<div>\n",
       "<style scoped>\n",
       "    .dataframe tbody tr th:only-of-type {\n",
       "        vertical-align: middle;\n",
       "    }\n",
       "\n",
       "    .dataframe tbody tr th {\n",
       "        vertical-align: top;\n",
       "    }\n",
       "\n",
       "    .dataframe thead th {\n",
       "        text-align: right;\n",
       "    }\n",
       "</style>\n",
       "<table border=\"1\" class=\"dataframe\">\n",
       "  <thead>\n",
       "    <tr style=\"text-align: right;\">\n",
       "      <th></th>\n",
       "      <th>fileid</th>\n",
       "      <th>folder</th>\n",
       "      <th>signer</th>\n",
       "      <th>label</th>\n",
       "      <th>num_frames</th>\n",
       "      <th>original_info</th>\n",
       "    </tr>\n",
       "  </thead>\n",
       "  <tbody>\n",
       "    <tr>\n",
       "      <th>0</th>\n",
       "      <td>112_alikhlas_1_2_3</td>\n",
       "      <td>dev/112_alikhlas_1_2_3/*.jpg</td>\n",
       "      <td>signer-1</td>\n",
       "      <td>a llā hu ṣṣa ma d</td>\n",
       "      <td>155</td>\n",
       "      <td>112_alikhlas_1_2_3|112_alikhlas_1_2_3/*.jpg|si...</td>\n",
       "    </tr>\n",
       "    <tr>\n",
       "      <th>1</th>\n",
       "      <td>112_alikhlas_1_2_6</td>\n",
       "      <td>dev/112_alikhlas_1_2_6/*.jpg</td>\n",
       "      <td>signer-1</td>\n",
       "      <td>a llā hu ṣṣa ma d</td>\n",
       "      <td>161</td>\n",
       "      <td>112_alikhlas_1_2_6|112_alikhlas_1_2_6/*.jpg|si...</td>\n",
       "    </tr>\n",
       "    <tr>\n",
       "      <th>2</th>\n",
       "      <td>112_alikhlas_1_2_8</td>\n",
       "      <td>dev/112_alikhlas_1_2_8/*.jpg</td>\n",
       "      <td>signer-1</td>\n",
       "      <td>a llā hu ṣṣa ma d</td>\n",
       "      <td>149</td>\n",
       "      <td>112_alikhlas_1_2_8|112_alikhlas_1_2_8/*.jpg|si...</td>\n",
       "    </tr>\n",
       "    <tr>\n",
       "      <th>3</th>\n",
       "      <td>112_alikhlas_1_3_1</td>\n",
       "      <td>dev/112_alikhlas_1_3_1/*.jpg</td>\n",
       "      <td>signer-1</td>\n",
       "      <td>la m ya li d wa la m yū la d</td>\n",
       "      <td>259</td>\n",
       "      <td>112_alikhlas_1_3_1|112_alikhlas_1_3_1/*.jpg|si...</td>\n",
       "    </tr>\n",
       "    <tr>\n",
       "      <th>4</th>\n",
       "      <td>112_alikhlas_1_3_10</td>\n",
       "      <td>dev/112_alikhlas_1_3_10/*.jpg</td>\n",
       "      <td>signer-1</td>\n",
       "      <td>la m ya li d wa la m yū la d</td>\n",
       "      <td>232</td>\n",
       "      <td>112_alikhlas_1_3_10|112_alikhlas_1_3_10/*.jpg|...</td>\n",
       "    </tr>\n",
       "  </tbody>\n",
       "</table>\n",
       "</div>"
      ],
      "text/plain": [
       "                fileid                         folder    signer  \\\n",
       "0   112_alikhlas_1_2_3   dev/112_alikhlas_1_2_3/*.jpg  signer-1   \n",
       "1   112_alikhlas_1_2_6   dev/112_alikhlas_1_2_6/*.jpg  signer-1   \n",
       "2   112_alikhlas_1_2_8   dev/112_alikhlas_1_2_8/*.jpg  signer-1   \n",
       "3   112_alikhlas_1_3_1   dev/112_alikhlas_1_3_1/*.jpg  signer-1   \n",
       "4  112_alikhlas_1_3_10  dev/112_alikhlas_1_3_10/*.jpg  signer-1   \n",
       "\n",
       "                          label  num_frames  \\\n",
       "0             a llā hu ṣṣa ma d         155   \n",
       "1             a llā hu ṣṣa ma d         161   \n",
       "2             a llā hu ṣṣa ma d         149   \n",
       "3  la m ya li d wa la m yū la d         259   \n",
       "4  la m ya li d wa la m yū la d         232   \n",
       "\n",
       "                                       original_info  \n",
       "0  112_alikhlas_1_2_3|112_alikhlas_1_2_3/*.jpg|si...  \n",
       "1  112_alikhlas_1_2_6|112_alikhlas_1_2_6/*.jpg|si...  \n",
       "2  112_alikhlas_1_2_8|112_alikhlas_1_2_8/*.jpg|si...  \n",
       "3  112_alikhlas_1_3_1|112_alikhlas_1_3_1/*.jpg|si...  \n",
       "4  112_alikhlas_1_3_10|112_alikhlas_1_3_10/*.jpg|...  "
      ]
     },
     "execution_count": 4,
     "metadata": {},
     "output_type": "execute_result"
    }
   ],
   "source": [
    "# Menggabungkan semua DataFrame menjadi satu\n",
    "df_combined = pd.concat(dfs, ignore_index=True)\n",
    "df_combined.head()\n"
   ]
  },
  {
   "cell_type": "code",
   "execution_count": 5,
   "id": "62d934f1-fa19-416e-aecd-1260a0d727fd",
   "metadata": {},
   "outputs": [
    {
     "data": {
      "text/plain": [
       "(361, 6)"
      ]
     },
     "execution_count": 5,
     "metadata": {},
     "output_type": "execute_result"
    }
   ],
   "source": [
    "df_combined.shape"
   ]
  },
  {
   "cell_type": "code",
   "execution_count": 6,
   "id": "40b97951-d1ba-4311-aa2d-1469083d5b06",
   "metadata": {},
   "outputs": [],
   "source": [
    "# Menyimpan DataFrame ke file CSV\n",
    "df_combined.to_csv('QSLR2024/info.csv', index=False)"
   ]
  }
 ],
 "metadata": {
  "kernelspec": {
   "display_name": "Python 3 (ipykernel)",
   "language": "python",
   "name": "python3"
  },
  "language_info": {
   "codemirror_mode": {
    "name": "ipython",
    "version": 3
   },
   "file_extension": ".py",
   "mimetype": "text/x-python",
   "name": "python",
   "nbconvert_exporter": "python",
   "pygments_lexer": "ipython3",
   "version": "3.11.13"
  }
 },
 "nbformat": 4,
 "nbformat_minor": 5
}
